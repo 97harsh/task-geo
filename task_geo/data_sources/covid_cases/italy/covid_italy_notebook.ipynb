{
  "nbformat": 4,
  "nbformat_minor": 0,
  "metadata": {
    "colab": {
      "name": "Covid-Italy.ipynb",
      "provenance": [],
      "collapsed_sections": []
    },
    "kernelspec": {
      "name": "python3",
      "display_name": "Python 3"
    }
  },
  "cells": [
    {
      "cell_type": "code",
      "metadata": {
        "id": "1rhiZVyyKP8O",
        "colab_type": "code",
        "outputId": "7df62236-5bd7-4b68-9c8b-6fee4d7e2700",
        "colab": {
          "base_uri": "https://localhost:8080/",
          "height": 102
        }
      },
      "source": [
        "#Uncomment it to download libraries in Notebook\n",
        "# !pip install pandas numpy"
      ],
      "execution_count": 0,
      "outputs": [
        {
          "output_type": "stream",
          "text": [
            "Requirement already satisfied: pandas in /usr/local/lib/python3.6/dist-packages (0.25.3)\n",
            "Requirement already satisfied: numpy in /usr/local/lib/python3.6/dist-packages (1.18.2)\n",
            "Requirement already satisfied: python-dateutil>=2.6.1 in /usr/local/lib/python3.6/dist-packages (from pandas) (2.8.1)\n",
            "Requirement already satisfied: pytz>=2017.2 in /usr/local/lib/python3.6/dist-packages (from pandas) (2018.9)\n",
            "Requirement already satisfied: six>=1.5 in /usr/local/lib/python3.6/dist-packages (from python-dateutil>=2.6.1->pandas) (1.12.0)\n"
          ],
          "name": "stdout"
        }
      ]
    },
    {
      "cell_type": "code",
      "metadata": {
        "id": "Prmqw_cCKZJV",
        "colab_type": "code",
        "colab": {}
      },
      "source": [
        "#Import Libraries\n",
        "\n",
        "import pandas as pd\n",
        "import numpy as np\n",
        "import time\n",
        "#from google.colab import files  "
      ],
      "execution_count": 0,
      "outputs": []
    },
    {
      "cell_type": "code",
      "metadata": {
        "id": "jzANTDpoKkdS",
        "colab_type": "code",
        "colab": {}
      },
      "source": [
        "#Import dataset from JHU and country Codes list for mapping from Country code\n",
        "\n",
        "df = pd.read_csv(\"https://coronadatascraper.com/timeseries.csv\")\n",
        "df2 = pd.read_csv(\"https://raw.githubusercontent.com/lukes/ISO-3166-Countries-with-Regional-Codes/master/all/all.csv\")"
      ],
      "execution_count": 0,
      "outputs": []
    },
    {
      "cell_type": "code",
      "metadata": {
        "id": "TbWyqlgHTOCk",
        "colab_type": "code",
        "colab": {}
      },
      "source": [
        "#Remove rows where country is not provided\n",
        "df = df[df['country'].notna()]\n",
        "#df = df[df['state'].notna()]\n",
        "\n",
        "#Fill NULL values with 0 for features - cases, deaths, recovered, active, growthFactor\n",
        "df['cases'] = df['cases'].fillna(0)\n",
        "df['deaths'] = df['deaths'].fillna(0)\n",
        "df['recovered'] = df['recovered'].fillna(0)\n",
        "df['active'] = df['active'].fillna(0)\n",
        "df['growthFactor'] = df['growthFactor'].fillna(0) "
      ],
      "execution_count": 0,
      "outputs": []
    },
    {
      "cell_type": "code",
      "metadata": {
        "id": "uGVTqLLQemf2",
        "colab_type": "code",
        "colab": {}
      },
      "source": [
        "#Get all country list present in dataset\n",
        "\n",
        "country_list = df.country.unique()"
      ],
      "execution_count": 0,
      "outputs": []
    },
    {
      "cell_type": "code",
      "metadata": {
        "id": "isEat5E1NK0b",
        "colab_type": "code",
        "colab": {}
      },
      "source": [
        "'''\n",
        "  Currently all Country are having null state data values. \n",
        "  Below code will extract Geo-Data as country wise and then save it.\n",
        "'''\n",
        "\n",
        "idx = 0\n",
        "\n",
        "#Create empty dataframe for storing Italy data\n",
        "fnl = pd.DataFrame(columns=['state','country','population','lat','long','url','aggregate','tz','date','cases','deaths','recovered','active','growthFactor'])\n",
        "\n",
        "ed = df[df['country']=='ITA'].sort_values(by='date')\n",
        "\n",
        "#Store values ony by one sorted by date\n",
        "for date in ed.date.unique():\n",
        "  fnl.loc[idx] = pd.Series()\n",
        "  fnl.loc[idx]['state'] = ed[ed['date']==date]['state'].values[0]\n",
        "  fnl.loc[idx]['country'] = ed[ed['date']==date]['country'].values[0]\n",
        "  fnl.loc[idx]['population'] = ed[ed['date']==date]['population'].values[0]\n",
        "  fnl.loc[idx]['lat'] = ed[ed['date']==date]['lat'].values[0]\n",
        "  fnl.loc[idx]['long'] = ed[ed['date']==date]['long'].values[0]\n",
        "  fnl.loc[idx]['url'] = ed[ed['date']==date]['url'].values[0]\n",
        "  fnl.loc[idx]['aggregate'] = ed[ed['date']==date]['aggregate'].values[0]\n",
        "  fnl.loc[idx]['tz'] = ed[ed['date']==date]['tz'].values[0]\n",
        "  fnl.loc[idx]['date'] = date\n",
        "  fnl.loc[idx]['cases'] = ed[ed['date']==date]['cases'].values[0]\n",
        "  fnl.loc[idx]['deaths'] = ed[ed['date']==date]['deaths'].values[0]\n",
        "  fnl.loc[idx]['recovered'] = ed[ed['date']==date]['recovered'].values[0]\n",
        "  fnl.loc[idx]['active'] = ed[ed['date']==date]['active'].values[0]\n",
        "  fnl.loc[idx]['growthFactor'] = ed[ed['date']==date]['growthFactor'].values[0]\n",
        "  idx += 1\n",
        "  \n",
        "#Store the data\n",
        "try:\n",
        "  fl = \"Italy.csv\"\n",
        "  fnl.to_csv(fl)\n",
        "except Exception:\n",
        "  print(\"Failed to save data for--> \",country)\n",
        "\n",
        "#Download data from Google Colab\n",
        "try:\n",
        "  files.download(fl.replace(\"'\",\"\"))\n",
        "except Exception:\n",
        "  print(\"Failed to Download --> \",fl)\n"
      ],
      "execution_count": 0,
      "outputs": []
    },
    {
      "cell_type": "code",
      "metadata": {
        "id": "GYcWSQbxp-yu",
        "colab_type": "code",
        "colab": {}
      },
      "source": [
        ""
      ],
      "execution_count": 0,
      "outputs": []
    }
  ]
}