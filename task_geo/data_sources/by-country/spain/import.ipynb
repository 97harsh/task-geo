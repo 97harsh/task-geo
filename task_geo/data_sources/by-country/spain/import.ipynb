{
 "cells": [
  {
   "cell_type": "markdown",
   "metadata": {},
   "source": [
    "# Overview\n",
    "This notebook is associated with Trello card https://trello.com/c/y4Nv52JN, specifically the Spain data. "
   ]
  },
  {
   "cell_type": "markdown",
   "metadata": {},
   "source": [
    "## Discovery\n",
    "Spain data was initially found on https://en.wikipedia.org/wiki/2020_coronavirus_pandemic_in_Spain. Following links from this page, led to the following:\n",
    "- https://www.rtve.es/noticias/20200329/mapa-del-coronavirus-espana/2004681.shtml\n",
    "- https://www.mscbs.gob.es/profesionales/saludPublica/ccayes/alertasActual/nCov-China/situacionActual.htm\n",
    "- https://covid19.isciii.es/"
   ]
  },
  {
   "cell_type": "markdown",
   "metadata": {},
   "source": [
    "## Read Data"
   ]
  },
  {
   "cell_type": "code",
   "execution_count": 5,
   "metadata": {},
   "outputs": [],
   "source": [
    "import pandas as pd"
   ]
  },
  {
   "cell_type": "code",
   "execution_count": 20,
   "metadata": {},
   "outputs": [
    {
     "name": "stdout",
     "output_type": "stream",
     "text": [
      "  CCAA ISO Code        Date  Casos   Hospitalized  UCI  Deceased\n",
      "0            AN  20/02/2020     NaN           NaN  NaN       NaN\n",
      "1            AR  20/02/2020     NaN           NaN  NaN       NaN\n",
      "2            AS  20/02/2020     NaN           NaN  NaN       NaN\n",
      "3            IB  20/02/2020     1.0           NaN  NaN       NaN\n",
      "4            CN  20/02/2020     1.0           NaN  NaN       NaN\n"
     ]
    }
   ],
   "source": [
    "url = \"https://covid19.isciii.es/resources/serie_historica_acumulados.csv\"\n",
    "df = pd.read_csv(url, encoding=\"latin_1\")\n",
    "df.rename(columns={'CCAA Codigo ISO': 'CCAA ISO Code', 'Fecha': 'Date', 'Casos': 'Cases', 'Hospitalizados': 'Hospitalized', 'Fallecidos': 'Deceased'}, inplace=True)\n",
    "# df.columns\n",
    "print(df.head())"
   ]
  },
  {
   "cell_type": "code",
   "execution_count": null,
   "metadata": {},
   "outputs": [],
   "source": []
  }
 ],
 "metadata": {
  "kernelspec": {
   "display_name": "Python 3",
   "language": "python",
   "name": "python3"
  },
  "language_info": {
   "codemirror_mode": {
    "name": "ipython",
    "version": 3
   },
   "file_extension": ".py",
   "mimetype": "text/x-python",
   "name": "python",
   "nbconvert_exporter": "python",
   "pygments_lexer": "ipython3",
   "version": "3.6.7"
  }
 },
 "nbformat": 4,
 "nbformat_minor": 2
}
